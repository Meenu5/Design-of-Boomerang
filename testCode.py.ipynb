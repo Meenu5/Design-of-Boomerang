{
 "cells": [
  {
   "cell_type": "code",
   "execution_count": 15,
   "metadata": {
    "collapsed": true
   },
   "outputs": [],
   "source": [
    "import numpy as np\n",
    "from numpy.linalg import inv\n",
    "from numpy.linalg import solve\n",
    "import pandas as pd\n",
    "import time\n",
    "import copy\n",
    "\n",
    "tan = np.tan\n",
    "cos = np.cos\n",
    "sin = np.sin\n",
    "pi = np.pi\n",
    "taninv = np.arctan\n",
    "transpose = np.transpose"
   ]
  },
  {
   "cell_type": "code",
   "execution_count": 16,
   "metadata": {
    "collapsed": true
   },
   "outputs": [],
   "source": [
    "import numpy as np\n",
    "from numpy.linalg import inv\n",
    "from numpy.linalg import solve\n",
    "import pandas as pd\n",
    "import time\n",
    "import copy\n",
    "import coefficients\n",
    "import kinematics\n",
    "import transformations\n",
    "\n",
    "\n",
    "tan = np.tan\n",
    "cos = np.cos\n",
    "sin = np.sin\n",
    "pi = np.pi\n",
    "transpose = np.transpose\n",
    "\n",
    "### PARAMETERS ###\n",
    "c = 0.0488 # chord\n",
    "R = 0.269 # Radius\n",
    "S = 0.228 # Surface Area\n",
    "m = 0.13 # mass\n",
    "rho = 1.225\n",
    "g = 9.8\n",
    "\n",
    "length_1 = 0.3\n",
    "length_2 = 0.3\n",
    "theta_1 = 0.\n",
    "theta_2 = 0.\n",
    "Lamda_1 = pi*2/3\n",
    "Lamda_2 = pi*4/3\n",
    "x_ac_1 = 0.0723\n",
    "x_ac_2 = 0.0723\n",
    "beta_1 = 0.\n",
    "beta_2 = 0.\n",
    "segments = 100\n",
    "\n",
    "inertia_jframe = np.array([[1.9*10**-3, 0., 0.],[0.,4.88*10**-6, 0.],[0.,0.,1.9*10**-3]])\n",
    "x_ac_vec = np.array([x_ac_1,x_ac_2])\n",
    "length_vec = np.array([length_1, length_2]) # length of blades\n",
    "theta_pitch_vec = np.array([theta_1, theta_2]) # theta_pitch of blades\n",
    "Lamda_vec = np.array([Lamda_1,Lamda_2]) # Lamda of blades\n",
    "beta_vec = np.array([0.,0.]) # beta of blades\n",
    "\n",
    "delta_t = 0.2 # time step\n",
    "\n",
    "# Initial Conditions\n",
    "u_vec = np.array([10.,0.,0.]) # initialize u_vec\n",
    "omega_vec = np.array([0.,0.,1.]) # initialize omega_vec\n",
    "u_vec_d = np.zeros(3) # dummy initialisation\n",
    "Omega = omega_vec[2] # r at t = 0\n",
    "path_vec = np.array([0.,0.,1]) # initial X0,Y0,Z0\n",
    "phi = 60.*pi/180.\n",
    "theta = 0.\n",
    "psi = 0.\n",
    "Phi0 = 60.*pi/180.\n",
    "Theta0 = 0.\n",
    "Psi0 = 0.\n",
    "Phi = 60.*pi/180.\n",
    "Psi = 0.\n",
    "Theta = 0.\n",
    "lamda = 0.\n",
    "### END PARAMETERS ####\n",
    "\n",
    "### OVERALL TRAJECTORY ####\n",
    "trajectory_u_vec = []\n",
    "trajectory_omega_vec = []\n",
    "trajectory_Phi_Theta_Psi = []\n",
    "trajectory_path = []\n",
    "trajectory_phi_theta_psi = []\n",
    "\n",
    "# Unchanged params\n",
    "Tj1 = transformations.doT0TjTransformation(Lamda_vec[0],theta_pitch_vec[0],beta_vec[0]) # blade 1\n",
    "Tj2 = transformations.doT0TjTransformation(Lamda_vec[1],theta_pitch_vec[1],beta_vec[1]) # blade 2"
   ]
  },
  {
   "cell_type": "code",
   "execution_count": 32,
   "metadata": {},
   "outputs": [
    {
     "ename": "AttributeError",
     "evalue": "'numpy.float64' object has no attribute 'append'",
     "output_type": "error",
     "traceback": [
      "\u001b[0;31m---------------------------------------------------------------------------\u001b[0m",
      "\u001b[0;31mAttributeError\u001b[0m                            Traceback (most recent call last)",
      "\u001b[0;32m<ipython-input-32-6f22edaeacfd>\u001b[0m in \u001b[0;36m<module>\u001b[0;34m()\u001b[0m\n\u001b[1;32m     22\u001b[0m     \u001b[0mw_vec_2\u001b[0m \u001b[0;34m=\u001b[0m \u001b[0mkinematics\u001b[0m\u001b[0;34m.\u001b[0m\u001b[0mdoRelativeAirVelBlade\u001b[0m\u001b[0;34m(\u001b[0m\u001b[0mv_vec_2\u001b[0m\u001b[0;34m,\u001b[0m\u001b[0mTj2\u001b[0m\u001b[0;34m)\u001b[0m\u001b[0;34m\u001b[0m\u001b[0m\n\u001b[1;32m     23\u001b[0m \u001b[0;34m\u001b[0m\u001b[0m\n\u001b[0;32m---> 24\u001b[0;31m     \u001b[0malpha_vec_1\u001b[0m \u001b[0;34m=\u001b[0m \u001b[0mkinematics\u001b[0m\u001b[0;34m.\u001b[0m\u001b[0mdoAlpha\u001b[0m\u001b[0;34m(\u001b[0m\u001b[0mw_vec_1\u001b[0m\u001b[0;34m)\u001b[0m\u001b[0;34m\u001b[0m\u001b[0m\n\u001b[0m\u001b[1;32m     25\u001b[0m     \u001b[0malpha_vec_2\u001b[0m \u001b[0;34m=\u001b[0m \u001b[0mkinematics\u001b[0m\u001b[0;34m.\u001b[0m\u001b[0mdoAlpha\u001b[0m\u001b[0;34m(\u001b[0m\u001b[0mw_vec_2\u001b[0m\u001b[0;34m)\u001b[0m\u001b[0;34m\u001b[0m\u001b[0m\n\u001b[1;32m     26\u001b[0m \u001b[0;34m\u001b[0m\u001b[0m\n",
      "\u001b[0;32m/Users/sreemeenu/Downloads/SEM6/Design elective/Reports/AeroDesignReport3/codes/kinematics.py\u001b[0m in \u001b[0;36mdoAlpha\u001b[0;34m(w_vec)\u001b[0m\n\u001b[1;32m     51\u001b[0m         \u001b[0;32melse\u001b[0m \u001b[0;34m:\u001b[0m\u001b[0;34m\u001b[0m\u001b[0m\n\u001b[1;32m     52\u001b[0m             \u001b[0malpha\u001b[0m \u001b[0;34m=\u001b[0m \u001b[0mtaninv\u001b[0m\u001b[0;34m(\u001b[0m\u001b[0mabs\u001b[0m\u001b[0;34m(\u001b[0m\u001b[0mi\u001b[0m\u001b[0;34m[\u001b[0m\u001b[0;36m2\u001b[0m\u001b[0;34m]\u001b[0m\u001b[0;34m/\u001b[0m\u001b[0mi\u001b[0m\u001b[0;34m[\u001b[0m\u001b[0;36m0\u001b[0m\u001b[0;34m]\u001b[0m\u001b[0;34m)\u001b[0m\u001b[0;34m)\u001b[0m\u001b[0;34m\u001b[0m\u001b[0m\n\u001b[0;32m---> 53\u001b[0;31m         \u001b[0malpha_vec\u001b[0m\u001b[0;34m.\u001b[0m\u001b[0mappend\u001b[0m\u001b[0;34m(\u001b[0m\u001b[0malpha\u001b[0m\u001b[0;34m)\u001b[0m\u001b[0;34m\u001b[0m\u001b[0m\n\u001b[0m\u001b[1;32m     54\u001b[0m     \u001b[0;32mreturn\u001b[0m \u001b[0mlist\u001b[0m\u001b[0;34m(\u001b[0m\u001b[0malpha_vec\u001b[0m\u001b[0;34m)\u001b[0m\u001b[0;34m\u001b[0m\u001b[0m\n",
      "\u001b[0;31mAttributeError\u001b[0m: 'numpy.float64' object has no attribute 'append'"
     ]
    }
   ],
   "source": [
    "r_j_vec_1 = kinematics.doPositionVector(Tj1,length_vec[0],x_ac_vec[0])\n",
    "r_j_vec_2 = kinematics.doPositionVector(Tj2,length_vec[1],x_ac_vec[1])\n",
    "\n",
    "J1 = np.matmul(transpose(Tj1),inertia_jframe)\n",
    "J2 = np.matmul(transpose(Tj2),inertia_jframe)\n",
    "\n",
    "# initial velocity\n",
    "trajectory_u_vec.append(copy.copy(u_vec))\n",
    "trajectory_omega_vec.append(copy.copy(omega_vec))\n",
    "trajectory_Phi_Theta_Psi.append(copy.copy(np.array([Phi, Theta, Psi])))\n",
    "\n",
    "a = time.time()\n",
    "steps = 0\n",
    "while steps <= 1 :\n",
    "    ## Changes over time ###\n",
    "\n",
    "    # kinematics\n",
    "    v_vec_1 = kinematics.doVelBlade(u_vec, omega_vec, r_j_vec_1)\n",
    "    v_vec_2 = kinematics.doVelBlade(u_vec, omega_vec, r_j_vec_2)\n",
    "\n",
    "    w_vec_1 = kinematics.doRelativeAirVelBlade(v_vec_1,Tj1)\n",
    "    w_vec_2 = kinematics.doRelativeAirVelBlade(v_vec_2,Tj2)\n",
    "    \n",
    "    alpha_vec_1 = kinematics.doAlpha(w_vec_1)\n",
    "    alpha_vec_2 = kinematics.doAlpha(w_vec_2)\n",
    "    \n",
    "    # Coefficients - Aerodynamic and Body\n",
    "    Cx_A = coefficients.doCx_A(w_vec_1, c, R, S, Omega, alpha_vec_1, Lamda_1, theta_1, beta_1,  length_1, segments)\n",
    "    Cx_A += coefficients.doCx_A(w_vec_2, c, R, S, Omega, alpha_vec_2, Lamda_2, theta_2, beta_2,  length_2, segments)\n",
    "\n",
    "\n",
    "    steps+=1\n",
    "\n",
    "print(alpha_vec_1)"
   ]
  },
  {
   "cell_type": "code",
   "execution_count": 29,
   "metadata": {},
   "outputs": [],
   "source": [
    "alpha_vec = []\n",
    "w_vec = [[1,0,1],[1,0,1]]\n",
    "def doAlpha(w_vec) :\n",
    "    alpha_vec = []\n",
    "    for i in w_vec :\n",
    "        if i[2]>=0 and i[0]>=0 :\n",
    "            alpha = pi - taninv(abs(i[2]/i[0]))\n",
    "        elif i[2]<=0 and i[0]>=0 :\n",
    "            alpha = taninv(abs(i[2]/i[0])) - pi\n",
    "        elif i[2]<=0 and i[0]<=0 :\n",
    "            alpha = -taninv(abs(i[2]/i[0]))\n",
    "        else :\n",
    "            alpha = taninv(abs(i[2]/i[0]))\n",
    "        alpha_vec.append(alpha)\n",
    "    return alpha_vec\n"
   ]
  },
  {
   "cell_type": "code",
   "execution_count": 30,
   "metadata": {
    "collapsed": true
   },
   "outputs": [],
   "source": [
    "al = doAlpha(w_vec)"
   ]
  }
 ],
 "metadata": {
  "kernelspec": {
   "display_name": "Python 3",
   "language": "python",
   "name": "python3"
  },
  "language_info": {
   "codemirror_mode": {
    "name": "ipython",
    "version": 3
   },
   "file_extension": ".py",
   "mimetype": "text/x-python",
   "name": "python",
   "nbconvert_exporter": "python",
   "pygments_lexer": "ipython3",
   "version": "3.6.1"
  }
 },
 "nbformat": 4,
 "nbformat_minor": 2
}
